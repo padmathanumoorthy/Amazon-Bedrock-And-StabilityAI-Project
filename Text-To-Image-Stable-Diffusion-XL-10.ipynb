{
  "nbformat": 4,
  "nbformat_minor": 0,
  "metadata": {
    "colab": {
      "provenance": [],
      "authorship_tag": "ABX9TyOJ8FKRQNF5BjXMz36Rm3P8",
      "include_colab_link": true
    },
    "kernelspec": {
      "name": "python3",
      "display_name": "Python 3"
    },
    "language_info": {
      "name": "python"
    }
  },
  "cells": [
    {
      "cell_type": "markdown",
      "metadata": {
        "id": "view-in-github",
        "colab_type": "text"
      },
      "source": [
        "<a href=\"https://colab.research.google.com/github/padmathanumoorthy/Amazon-Bedrock-And-StabilityAI-Project/blob/main/Text-To-Image-Stable-Diffusion-XL-10.ipynb\" target=\"_parent\"><img src=\"https://colab.research.google.com/assets/colab-badge.svg\" alt=\"Open In Colab\"/></a>"
      ]
    },
    {
      "cell_type": "code",
      "execution_count": 8,
      "metadata": {
        "colab": {
          "base_uri": "https://localhost:8080/"
        },
        "id": "XFu7BcRWeatW",
        "outputId": "1b44ae9f-a0e7-4f01-d2c6-6f1023197162"
      },
      "outputs": [
        {
          "output_type": "stream",
          "name": "stderr",
          "text": [
            "WARNING: Running pip as the 'root' user can result in broken permissions and conflicting behaviour with the system package manager. It is recommended to use a virtual environment instead: https://pip.pypa.io/warnings/venv\n"
          ]
        }
      ],
      "source": [
        "%%sh\n",
        "\n",
        "# create virtual python environment\n",
        "python3 -m pip install pip -Uq\n",
        "\n"
      ]
    },
    {
      "cell_type": "code",
      "source": [
        "%%sh\n",
        "\n",
        "# install requirements\n",
        "python3 -m pip install boto3 -Uq\n",
        "python3 -m pip install botocore -Uq\n",
        "python3 -m pip install ffmpeg-python -Uq\n",
        "python3 -m pip install Pillow -Uq\n",
        "\n",
        "\n",
        "\n"
      ],
      "metadata": {
        "colab": {
          "base_uri": "https://localhost:8080/"
        },
        "id": "mIObks-3ekg0",
        "outputId": "a07b37a2-085d-486c-d0a0-1c5988427f90"
      },
      "execution_count": 2,
      "outputs": [
        {
          "output_type": "stream",
          "name": "stdout",
          "text": [
            "   ━━━━━━━━━━━━━━━━━━━━━━━━━━━━━━━━━━━━━━━━ 139.3/139.3 kB 3.5 MB/s eta 0:00:00\n",
            "   ━━━━━━━━━━━━━━━━━━━━━━━━━━━━━━━━━━━━━━━━ 12.0/12.0 MB 25.9 MB/s eta 0:00:00\n",
            "   ━━━━━━━━━━━━━━━━━━━━━━━━━━━━━━━━━━━━━━━━ 82.1/82.1 kB 6.2 MB/s eta 0:00:00\n",
            "   ━━━━━━━━━━━━━━━━━━━━━━━━━━━━━━━━━━━━━━━━ 4.5/4.5 MB 12.2 MB/s eta 0:00:00\n"
          ]
        },
        {
          "output_type": "stream",
          "name": "stderr",
          "text": [
            "WARNING: Running pip as the 'root' user can result in broken permissions and conflicting behaviour with the system package manager. It is recommended to use a virtual environment instead: https://pip.pypa.io/warnings/venv\n",
            "WARNING: Running pip as the 'root' user can result in broken permissions and conflicting behaviour with the system package manager. It is recommended to use a virtual environment instead: https://pip.pypa.io/warnings/venv\n",
            "WARNING: Running pip as the 'root' user can result in broken permissions and conflicting behaviour with the system package manager. It is recommended to use a virtual environment instead: https://pip.pypa.io/warnings/venv\n",
            "ERROR: pip's dependency resolver does not currently take into account all the packages that are installed. This behaviour is the source of the following dependency conflicts.\n",
            "imageio 2.31.6 requires pillow<10.1.0,>=8.3.2, but you have pillow 10.2.0 which is incompatible.\n",
            "WARNING: Running pip as the 'root' user can result in broken permissions and conflicting behaviour with the system package manager. It is recommended to use a virtual environment instead: https://pip.pypa.io/warnings/venv\n"
          ]
        }
      ]
    },
    {
      "cell_type": "code",
      "source": [
        "import os\n",
        "from google.colab import userdata\n",
        "userdata.get('AWS_ACCESS_KEY_ID')\n",
        "userdata.get('AWS_SECRET_ACCESS_KEY')\n",
        "\n"
      ],
      "metadata": {
        "colab": {
          "base_uri": "https://localhost:8080/",
          "height": 35
        },
        "id": "zXNhVRThez98",
        "outputId": "fce918f0-db2a-43b0-f93b-3a8f96ff4fe7"
      },
      "execution_count": 4,
      "outputs": [
        {
          "output_type": "execute_result",
          "data": {
            "text/plain": [
              "'nLIvY9CilPEo0QKSt8tb1f8SK40hF8GUcGUenOzt'"
            ],
            "application/vnd.google.colaboratory.intrinsic+json": {
              "type": "string"
            }
          },
          "metadata": {},
          "execution_count": 4
        }
      ]
    },
    {
      "cell_type": "code",
      "source": [
        "%%sh\n",
        "\n",
        "# install ffmpeg on mac using homebrew\n",
        "# https://phoenixnap.com/kb/ffmpeg-mac\n",
        "\n",
        "#brew update\n",
        "# brew upgrade # this is optional (note: will upgrade all packages and could take awhile)\n",
        "#brew install ffmpeg\n",
        "python3 -m pip install ffmpeg -Uq"
      ],
      "metadata": {
        "colab": {
          "base_uri": "https://localhost:8080/"
        },
        "id": "KL9L0ioEjqxl",
        "outputId": "19f47fa7-ec0e-4acb-e586-300366e43831"
      },
      "execution_count": 11,
      "outputs": [
        {
          "output_type": "stream",
          "name": "stderr",
          "text": [
            "WARNING: Running pip as the 'root' user can result in broken permissions and conflicting behaviour with the system package manager. It is recommended to use a virtual environment instead: https://pip.pypa.io/warnings/venv\n"
          ]
        }
      ]
    },
    {
      "cell_type": "code",
      "source": [],
      "metadata": {
        "colab": {
          "base_uri": "https://localhost:8080/"
        },
        "id": "5N8UyDRtnwY9",
        "outputId": "02ff7127-6843-4b9c-b585-797782a68337"
      },
      "execution_count": 14,
      "outputs": [
        {
          "output_type": "stream",
          "name": "stdout",
          "text": [
            "mkdir: cannot create directory ‘/content/source_videos/’: File exists\n"
          ]
        }
      ]
    },
    {
      "cell_type": "code",
      "source": [
        "%%sh\n",
        "\n",
        "mkdir /content/source_videos/\n",
        "mkdir /content/source_frames/\n",
        "mkdir /content/generated_frames/\n",
        "mkdir /content/generated_images/\n",
        "\n",
        "mkdir /content/source_frames/demo1/\n",
        "mkdir /content/source_frames/demo2/\n",
        "mkdir /content/source_frames/demo3/\n",
        "mkdir /content/source_frames/demo4/\n",
        "mkdir /content/generated_frames/demo1/\n",
        "mkdir /content/generated_frames/demo2/\n",
        "mkdir /content/generated_frames/demo3/\n",
        "mkdir /content/generated_frames/demo4/\n",
        "\n",
        "ls /content/"
      ],
      "metadata": {
        "colab": {
          "base_uri": "https://localhost:8080/"
        },
        "id": "bNsLSMx5jrgj",
        "outputId": "8870e4c2-0554-404d-9e8e-7efc02d10d11"
      },
      "execution_count": 25,
      "outputs": [
        {
          "output_type": "stream",
          "name": "stdout",
          "text": [
            "bedrock-venv\n",
            "generated_frames\n",
            "generated_images\n",
            "sample_data\n",
            "source_frames\n",
            "source_videos\n"
          ]
        },
        {
          "output_type": "stream",
          "name": "stderr",
          "text": [
            "mkdir: cannot create directory ‘/content/source_videos/’: File exists\n",
            "mkdir: cannot create directory ‘/content/source_frames/’: File exists\n",
            "mkdir: cannot create directory ‘/content/generated_frames/’: File exists\n",
            "mkdir: cannot create directory ‘/content/source_frames/demo1/’: File exists\n",
            "mkdir: cannot create directory ‘/content/source_frames/demo2/’: File exists\n",
            "mkdir: cannot create directory ‘/content/source_frames/demo3/’: File exists\n",
            "mkdir: cannot create directory ‘/content/source_frames/demo4/’: File exists\n",
            "mkdir: cannot create directory ‘/content/generated_frames/demo1/’: File exists\n",
            "mkdir: cannot create directory ‘/content/generated_frames/demo2/’: File exists\n",
            "mkdir: cannot create directory ‘/content/generated_frames/demo3/’: File exists\n",
            "mkdir: cannot create directory ‘/content/generated_frames/demo4/’: File exists\n"
          ]
        }
      ]
    },
    {
      "cell_type": "code",
      "source": [
        "# Amazon Bedrock Model ID used throughout this notebook\n",
        "# Model IDs: https://docs.aws.amazon.com/bedrock/latest/userguide/model-ids.html#model-ids-arns\n",
        "MODEL_ID = \"stability.stable-diffusion-xl-v1\""
      ],
      "metadata": {
        "id": "megYJQhRojwm"
      },
      "execution_count": 16,
      "outputs": []
    },
    {
      "cell_type": "code",
      "source": [
        "# Location of visual contents used throughout this notebook\n",
        "SOURCE_IMAGES = \"/content/source_images\"\n",
        "SOURCE_VIDEOS = \"/content/source_videos\"\n",
        "SOURCE_FRAMES = \"/content/source_frames\"\n",
        "\n",
        "GENERATED_IMAGES = \"/content/generated_images\"\n",
        "GENERATED_FRAMES = \"/content/generated_frames\"\n",
        "GENERATED_VIDEOS = \"/content/generated_videos\""
      ],
      "metadata": {
        "id": "pYBXhHAwo1HE"
      },
      "execution_count": 17,
      "outputs": []
    },
    {
      "cell_type": "code",
      "source": [
        "# Modified version of AWS example code: https://docs.aws.amazon.com/bedrock/latest/userguide/model-parameters-diffusion-1-0-text-image.html#model-parameters-diffusion-1-0-code-example\n",
        "# Copyright Amazon.com, Inc. or its affiliates. All Rights Reserved.\n",
        "# SPDX-License-Identifier: Apache-2.0\n",
        "\"\"\"\n",
        "Shows how to generate an image with SDXL 1.0 (on demand).\n",
        "\"\"\"\n",
        "\n",
        "import base64\n",
        "import io\n",
        "import json\n",
        "import logging\n",
        "import boto3\n",
        "from PIL import Image\n",
        "import time\n",
        "\n",
        "from botocore.exceptions import ClientError\n",
        "\n",
        "# There is a 77-token limit for prompts for the SXDL 1.0 model\n",
        "\n",
        "# Phoenix prompt inspiration: https://civitai.com/images/3030250\n",
        "# preset style: fantasy-art, cfg_scale: 15, sampler: K_DPMPP_2M, samples: 1, seed: 72746264, steps: 25\n",
        "POSITIVE_PROMPT = \"Pixar: ironman, cute modern disney style, Pixar 3d portrait, ultra detailed, gorgeous, 3d zbrush, trending on dribbble, 8k render\"\n",
        "NEGATIVE_PROMPT = \"\"\n",
        "\n",
        "# Phoenix prompt inspiration: https://civitai.com/images/3030250\n",
        "# preset style: fantasy-art, cfg_scale: 15, sampler: K_DPMPP_2M, samples: 1, seed: 72746264, steps: 25\n",
        "# POSITIVE_PROMPT = \"mythical beast, Phoenix, big eyes, sharp beak, long flowing feathers, bright colors, outdoors, perched on branch, no_humans, fire,scenery, cinematic lighting, strong contrast, high level of detail, best quality, masterpiece, best quality, ultra-detailed, masterpiece, hires, 8k\"\n",
        "# NEGATIVE_PROMPT = \"(worst quality:1.5), (low quality:1.5), (normal quality:1.5), lowres, bad anatomy, bad hands, watermark, moles, toe, bad-picture-chill-75v, realisticvision-negative-embedding, (monochrome:1.5), (grayscale:1.5), (bad proportions:1.3)\"\n",
        "\n",
        "# Samurai prompt inspiration: https://prompthero.com/prompt/accdc184a10\n",
        "# preset style: fantasy-art, cfg_scale: 15, sampler: K_DPMPP_2M, samples: 1, seed: 72746264, steps: 40\n",
        "# POSITIVE_PROMPT = \"digital wallpaper portrait of a samurai in black armor, highly detailed, at night, dramatic cinematic lighting, rainy, reflections in puddles, dramatic composition, emotionally profound, leaving an indelible and haunting impression on psyche, very intricate, by Milo Manara and Russ Mills\"\n",
        "# NEGATIVE_PROMPT = \"(deformed iris, deformed pupils), text, worst quality, low quality, jpeg artifacts, ugly, duplicate, morbid, mutilated, (extra fingers:1.5), (mutated hands:1.5), poorly drawn hands, poorly drawn face, mutation, deformed, blurry, dehydrated, bad anatomy, bad proportions, extra limbs, cloned face, gross proportions, malformed limbs, missing arms, missing legs, extra arms, extra legs, (fused fingers), (too many fingers), long neck, camera, name, signature, watermark, logo, autograph, trademark, cut off, censored, bad anatomy, bad body, bad face, bad teeth, deformities, (boring, uninteresting:1.1)\"\n",
        "\n",
        "# Cat prompt inspiration: https://civitai.com/images/6826034\n",
        "# No preset style, cfg_scale: 12, sampler: K_DPMPP_2M, samples: 1, seed: 72746264, steps: 25\n",
        "# POSITIVE_PROMPT = \"amazing quality, masterpiece, best quality, hyper detailed, ultra detailed, UHD, perfect anatomy, magic world, (kitten and fish:1.4), fish in the air, spell magic to get fresh fish as food,( fish jumping from magic book:1.3), energy flow, a full body of a cute kitten, kawaii, wearing witches robe, witches hat, holding magic book, magic book on one hand, spell magic, hkmagic, extremely detailed, glowneon, glowing\"\n",
        "# NEGATIVE_PROMPT = \"FastNegativeV2, watermark, signature, worst quality, low quality, normal quality, lowres, simple background, inaccurate limb, extra fingers, fewer fingers, missing fingers, extra arms, (extra legs:1.3), inaccurate eyes, bad composition, bad anatomy, error, extra digit, fewer digits, cropped, low res, worst quality, low quality, normal quality, jpeg artifacts, extra digit, fewer digits, trademark, watermark, artist's name, username, signature, text, words\"\n",
        "\n",
        "# Robot prompt inspiration: https://civitai.com/images/6935869\n",
        "# preset style: fantasy-art, cfg_scale: 15, sampler: K_DPMPP_2M, samples: 1, seed: 72746264, steps: 40\n",
        "# POSITIVE_PROMPT = \"masterpiece, best quality, cinematic film still, realistic, portrait, solo, white mecha robot, cape, science fiction, torn clothes, glowing, standing, robot joints, mecha, armor, cowboy shot, (floating cape:1.3), intense sunlight, silver dragonborn, outdoors, landscape, nature highres, 4k, 8k, intricate detail, cinematic lighting, amazing quality, wallpaper\"\n",
        "# NEGATIVE_PROMPT = \"nipples, (low quality, worst quality:1.4), cgi, text, signature, watermark, extra limbs\"\n",
        "\n",
        "# Batman prompt inspiration: https://medium.com/phygital/top-40-useful-prompts-for-stable-diffusion-xl-008c03dd0557\n",
        "# No preset style, cfg_scale: 5, sampler: K_DPMPP_2M, samples: 1, seed: 72746264, steps: 35\n",
        "# POSITIVE_PROMPT = \"batman, cute modern disney style, Pixar 3d portrait, ultra detailed, gorgeous, 3d zbrush, trending on dribbble, 8k render\"\n",
        "# NEGATIVE_PROMPT = \"\"\n",
        "\n",
        "# Dragon prompt inspiration: https://civitai.com/images/7029232\n",
        "# No negative prompt, preset style: anime, cfg_scale: 15, sampler: K_DPMPP_2M, samples: 1, seed: 1121313, steps: 25\n",
        "# POSITIVE_PROMPT = \"silk screen art, (ukiyo-e:1.1), (painted by Kim Hong-do:1.1), sharp oriental dragon, green and gold with a bit of blue, katsuhiro otomo, line art, glitch art, hergé\"\n",
        "# NEGATIVE_PROMPT = \"(deformed iris, deformed pupils), text, worst quality, low quality, jpeg artifacts, ugly, duplicate, morbid, mutilated, (extra fingers:1.5), (mutated hands:1.5), poorly drawn hands, poorly drawn face, mutation, deformed, blurry, dehydrated, bad anatomy, bad proportions, extra limbs, cloned face, gross proportions, malformed limbs, missing arms, missing legs, extra arms, extra legs, (fused fingers), (too many fingers), long neck, camera, name, signature, watermark, logo, autograph, trademark, cut off, censored, bad anatomy, bad body, bad face, bad teeth, deformities, (boring, uninteresting:1.1)\"\n",
        "\n",
        "# Autumn girl prompt inspiration: https://civitai.com/images/6840704\n",
        "# v1 No negative prompt, no preset style, cfg_scale: 5, sampler: K_DPMPP_2M, samples: 1, seed: 123456, steps: 30\n",
        "# v2 No negative prompt, no preset style, cfg_scale: 15, sampler: K_DPMPP_2M, samples: 1, seed: 123456, steps: 25\n",
        "# POSITIVE_PROMPT = \"mysterious silhouette forest woman, by Minjae Lee, Carne Griffiths, Emily Kell, Geoffroy Thoorens, Aaron Horkey, Jordan Grimmer, Greg Rutkowski, amazing depth, masterwork, surreal, geometric patterns, intricately detailed, bokeh, perfect balanced, deep fine borders, artistic photorealism , smooth, great masterwork by head of prompt engineering\"\n",
        "# NEGATIVE_PROMPT = \"boring,text,signature,logo,watermark,low quality, bad quality, loose artifacts, grainy, blurry, long neck, closed eyes, face jewellery\"\n",
        "\n",
        "\n",
        "class ImageError(Exception):\n",
        "    \"\"\"\n",
        "    Custom exception for errors returned by SDXL 1.0.\n",
        "    \"\"\"\n",
        "\n",
        "    def __init__(self, message):\n",
        "        self.message = message\n",
        "\n",
        "\n",
        "# Set up logging\n",
        "logger = logging.getLogger(__name__)\n",
        "if logger.hasHandlers():\n",
        "    logger.handlers.clear()\n",
        "handler = logging.StreamHandler()\n",
        "logger.addHandler(handler)\n",
        "formatter = logging.Formatter(\"%(asctime)s - %(levelname)s - %(message)s\")\n",
        "handler.setFormatter(formatter)\n",
        "logger.setLevel(logging.INFO)\n",
        "\n",
        "\n",
        "def main():\n",
        "    build_request_body(\n",
        "        MODEL_ID,\n",
        "        POSITIVE_PROMPT,\n",
        "        NEGATIVE_PROMPT,\n",
        "    )\n",
        "\n",
        "\n",
        "def generate_image(model_id, body):\n",
        "    \"\"\"\n",
        "    Generate an image using SDXL 1.0 on demand.\n",
        "    Args:\n",
        "        model_id (str): The model ID to use.\n",
        "        body (str) : The request body to use.\n",
        "    Returns:\n",
        "        image_bytes (bytes): The image generated by the model.\n",
        "    \"\"\"\n",
        "\n",
        "    logger.info(\"Generating image with SDXL model %s\", model_id)\n",
        "\n",
        "    bedrock = boto3.client(service_name=\"bedrock-runtime\",\n",
        "                           region_name='us-west-2',\n",
        "                           aws_access_key_id=userdata.get('AWS_ACCESS_KEY_ID'),\n",
        "                           aws_secret_access_key= userdata.get('AWS_SECRET_ACCESS_KEY'))\n",
        "\n",
        "    accept = \"application/json\"\n",
        "    content_type = \"application/json\"\n",
        "\n",
        "    response = bedrock.invoke_model(\n",
        "        body=body, modelId=model_id, accept=accept, contentType=content_type\n",
        "    )\n",
        "    response_body = json.loads(response.get(\"body\").read())\n",
        "    logger.info(f\"Bedrock result: {response_body['result']}\")\n",
        "\n",
        "    base64_image = response_body.get(\"artifacts\")[0].get(\"base64\")\n",
        "    base64_bytes = base64_image.encode(\"ascii\")\n",
        "    image_bytes = base64.b64decode(base64_bytes)\n",
        "\n",
        "    finish_reason = response_body.get(\"artifacts\")[0].get(\"finishReason\")\n",
        "\n",
        "    if finish_reason == \"ERROR\" or finish_reason == \"CONTENT_FILTERED\":\n",
        "        raise ImageError(f\"Image generation error. Error code is {finish_reason}\")\n",
        "\n",
        "    logger.info(\"Successfully generated image with the SDXL 1.0 model %s\", model_id)\n",
        "\n",
        "    return image_bytes\n",
        "\n",
        "\n",
        "def build_request_body(\n",
        "    model_id,\n",
        "    positive_prompt,\n",
        "    negative_prompt,\n",
        "):\n",
        "    \"\"\"\n",
        "    Entrypoint for SDXL example.\n",
        "    Args:\n",
        "        model_id (str): The model ID to use.\n",
        "        positive_prompt (str): The positive prompt to use.\n",
        "        negative_prompt (str): The negative prompt to use.\n",
        "    \"\"\"\n",
        "\n",
        "    # Build request body\n",
        "    body = json.dumps(\n",
        "        {\n",
        "            \"text_prompts\": [\n",
        "                {\"text\": positive_prompt, \"weight\": 1},\n",
        "                {\"text\": negative_prompt, \"weight\": -1},\n",
        "            ],\n",
        "            \"height\": 512,\n",
        "            \"width\": 512,\n",
        "            \"cfg_scale\": 12,\n",
        "            \"clip_guidance_preset\": \"NONE\",\n",
        "            \"sampler\": \"K_DPMPP_2M\",\n",
        "            \"samples\": 1,\n",
        "            \"seed\": 123456,\n",
        "            \"steps\": 50,\n",
        "            \"style_preset\": \"fantasy-art\",\n",
        "        }\n",
        "    )\n",
        "\n",
        "    # Generate and save image\n",
        "    try:\n",
        "        image_bytes = generate_image(model_id=model_id, body=body)\n",
        "        image = Image.open(io.BytesIO(image_bytes))\n",
        "        logger.info(image.show())\n",
        "        logger.info(image.size)\n",
        "        epoch_time = int(time.time())\n",
        "        generated_image_path = f\"{GENERATED_IMAGES}/image_{epoch_time}.png\"\n",
        "        logger.info(f\"Generated image: {generated_image_path}\")\n",
        "        image.save(generated_image_path)\n",
        "    except ClientError as err:\n",
        "        message = err.response[\"Error\"][\"Message\"]\n",
        "        logger.error(\"A client error occurred: %s\", message)\n",
        "    except ImageError as err:\n",
        "        message = err.response[\"Error\"][\"Message\"]\n",
        "        logger.error(\"A image error occurred: %s\",message)\n",
        "\n",
        "    else:\n",
        "        logger.info(f\"Finished generating image with SDXL model {model_id}.\")\n",
        "\n",
        "\n",
        "if __name__ == \"__main__\":\n",
        "    main()"
      ],
      "metadata": {
        "colab": {
          "base_uri": "https://localhost:8080/"
        },
        "id": "pmUjOyKMo-cS",
        "outputId": "a98f9c07-ab6e-41aa-8bca-eaf91a5b1e0c"
      },
      "execution_count": 47,
      "outputs": [
        {
          "output_type": "stream",
          "name": "stderr",
          "text": [
            "2024-03-10 01:14:54,485 - INFO - Generating image with SDXL model stability.stable-diffusion-xl-v1\n",
            "INFO:__main__:Generating image with SDXL model stability.stable-diffusion-xl-v1\n",
            "2024-03-10 01:14:59,882 - INFO - Bedrock result: success\n",
            "INFO:__main__:Bedrock result: success\n",
            "2024-03-10 01:14:59,889 - INFO - Successfully generated image with the SDXL 1.0 model stability.stable-diffusion-xl-v1\n",
            "INFO:__main__:Successfully generated image with the SDXL 1.0 model stability.stable-diffusion-xl-v1\n",
            "2024-03-10 01:15:00,012 - INFO - None\n",
            "INFO:__main__:None\n",
            "2024-03-10 01:15:00,017 - INFO - (512, 512)\n",
            "INFO:__main__:(512, 512)\n",
            "2024-03-10 01:15:00,020 - INFO - Generated image: /content/generated_images/image_1710033300.png\n",
            "INFO:__main__:Generated image: /content/generated_images/image_1710033300.png\n",
            "2024-03-10 01:15:00,147 - INFO - Finished generating image with SDXL model stability.stable-diffusion-xl-v1.\n",
            "INFO:__main__:Finished generating image with SDXL model stability.stable-diffusion-xl-v1.\n"
          ]
        }
      ]
    },
    {
      "cell_type": "markdown",
      "source": [],
      "metadata": {
        "id": "eXNKuyd64ewP"
      }
    },
    {
      "cell_type": "code",
      "source": [],
      "metadata": {
        "id": "4apftXusqK6h"
      },
      "execution_count": null,
      "outputs": []
    }
  ]
}