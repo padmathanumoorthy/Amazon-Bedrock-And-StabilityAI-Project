{
  "nbformat": 4,
  "nbformat_minor": 0,
  "metadata": {
    "colab": {
      "provenance": [],
      "authorship_tag": "ABX9TyNvX6NOLYZ7lp82Bx65VXR3",
      "include_colab_link": true
    },
    "kernelspec": {
      "name": "python3",
      "display_name": "Python 3"
    },
    "language_info": {
      "name": "python"
    }
  },
  "cells": [
    {
      "cell_type": "markdown",
      "metadata": {
        "id": "view-in-github",
        "colab_type": "text"
      },
      "source": [
        "<a href=\"https://colab.research.google.com/github/padmathanumoorthy/Amazon-Bedrock-And-StabilityAI-Project/blob/main/Code_Generation_Anthropic_Claude_V2.ipynb\" target=\"_parent\"><img src=\"https://colab.research.google.com/assets/colab-badge.svg\" alt=\"Open In Colab\"/></a>"
      ]
    },
    {
      "cell_type": "markdown",
      "source": [
        "PIP Installation"
      ],
      "metadata": {
        "id": "f9FUtHuI6_6D"
      }
    },
    {
      "cell_type": "code",
      "source": [
        "%%sh\n",
        "python3 -m pip install pip -Uq"
      ],
      "metadata": {
        "id": "hTcxnDHq7FkZ"
      },
      "execution_count": null,
      "outputs": []
    },
    {
      "cell_type": "markdown",
      "source": [
        "# Import dependencies"
      ],
      "metadata": {
        "id": "AgxPc7rQ7Irn"
      }
    },
    {
      "cell_type": "code",
      "source": [
        "import boto3\n",
        "import botocore.config\n",
        "import json\n",
        "from datetime import datetime"
      ],
      "metadata": {
        "id": "oNkz4YjP7L7h"
      },
      "execution_count": null,
      "outputs": []
    },
    {
      "cell_type": "markdown",
      "source": [
        "# Authenticate With AWS Credentials"
      ],
      "metadata": {
        "id": "o5BKBz-WB6Or"
      }
    },
    {
      "cell_type": "code",
      "source": [
        "import os\n",
        "from google.colab import userdata\n",
        "aws_access_key_id = userdata.get('AWS_ACCESS_KEY_ID')\n",
        "aws_secret_access_key = userdata.get('AWS_SECRET_ACCESS_KEY')"
      ],
      "metadata": {
        "id": "zXNhVRThez98"
      },
      "execution_count": null,
      "outputs": []
    },
    {
      "cell_type": "code",
      "source": [],
      "metadata": {
        "id": "7z01aliK7vCJ"
      },
      "execution_count": null,
      "outputs": []
    },
    {
      "cell_type": "markdown",
      "source": [
        "# Code Generation using Anthropic Claude V2 Model ID"
      ],
      "metadata": {
        "id": "3I6xdP60Dylf"
      }
    },
    {
      "cell_type": "code",
      "source": [
        "# Amazon Bedrock Model ID\n",
        "MODEL_ID = \"anthropic.claude-v2\""
      ],
      "metadata": {
        "id": "megYJQhRojwm"
      },
      "execution_count": null,
      "outputs": []
    },
    {
      "cell_type": "markdown",
      "source": [
        "# Generate Code using Bedrock"
      ],
      "metadata": {
        "id": "2xsSk_ui7N0u"
      }
    },
    {
      "cell_type": "code",
      "execution_count": null,
      "metadata": {
        "id": "ValO5huk65p3"
      },
      "outputs": [],
      "source": [
        "def generate_code_using_bedrock(message:str,language:str) ->str:\n",
        "\n",
        "    prompt_text = f\"\"\"\n",
        "Human: Write {language} code for the following instructions: {message}.\n",
        "    Assistant:\n",
        "    \"\"\"\n",
        "    body = {\n",
        "        \"prompt\": prompt_text,\n",
        "        \"max_tokens_to_sample\": 2048,\n",
        "        \"temperature\": 0.1,\n",
        "        \"top_k\":250,\n",
        "        \"top_p\": 0.2,\n",
        "        \"stop_sequences\":[\"\\n\\nHuman:\"]\n",
        "    }\n",
        "\n",
        "    try:\n",
        "        bedrock = boto3.client(service_name=\"bedrock-runtime\",\n",
        "                               region_name='us-west-2',\n",
        "                               aws_access_key_id = aws_access_key_id,\n",
        "                               aws_secret_access_key = aws_secret_access_key,\n",
        "                               config = botocore.config.Config(read_timeout=300, retries = {'max_attempts':3}))\n",
        "        response = bedrock.invoke_model(body=json.dumps(body),modelId=MODEL_ID)\n",
        "        response_content = response.get('body').read().decode('utf-8')\n",
        "        response_data = json.loads(response_content)\n",
        "        code = response_data[\"completion\"].strip()\n",
        "        return code\n",
        "\n",
        "    except Exception as e:\n",
        "        print(f\"Error generating the code: {e}\")\n",
        "        return \"\"\n"
      ]
    },
    {
      "cell_type": "markdown",
      "source": [
        "# Save to the S3 Bucket"
      ],
      "metadata": {
        "id": "VbBfcH9E8XsY"
      }
    },
    {
      "cell_type": "code",
      "source": [
        "def save_code_to_s3_bucket(code, s3_bucket, s3_key):\n",
        "\n",
        "    s3 = boto3.client('s3')\n",
        "\n",
        "    try:\n",
        "        s3.put_object(Bucket = s3_bucket, Key = s3_key, Body = code)\n",
        "        print(\"Code saved to s3\")\n",
        "\n",
        "    except Exception as e:\n",
        "        print(\"Error when saving the code to s3\")"
      ],
      "metadata": {
        "id": "6McyB77B8PWg"
      },
      "execution_count": null,
      "outputs": []
    },
    {
      "cell_type": "markdown",
      "source": [
        "# Call Method to Generate Code"
      ],
      "metadata": {
        "id": "vr-v6Mf38pXJ"
      }
    },
    {
      "cell_type": "code",
      "source": [
        "def lambda_handler(event, context):\n",
        "    event = json.loads(event['body'])\n",
        "    message = event['message']\n",
        "    language = event['key']\n",
        "    print(message, language)\n",
        "\n",
        "    generated_code = generate_code_using_bedrock(message, language)\n",
        "\n",
        "    if generated_code:\n",
        "        current_time = datetime.now().strftime('%H%M%S')\n",
        "        s3_key = f'code-output/{current_time}.py'\n",
        "        s3_bucket = 'bedrock-course-bucket'\n",
        "\n",
        "        save_code_to_s3_bucket(generated_code,s3_bucket,s3_key)\n",
        "\n",
        "    else:\n",
        "        print(\"No code was generated\")\n",
        "\n",
        "    return {\n",
        "        'statusCode':200,\n",
        "        'body':json.dumps('Code generation ')\n",
        "\n",
        "    }"
      ],
      "metadata": {
        "id": "xZQb5gkj8Tpq"
      },
      "execution_count": null,
      "outputs": []
    },
    {
      "cell_type": "markdown",
      "source": [],
      "metadata": {
        "id": "Uq1SdXL16-XC"
      }
    }
  ]
}