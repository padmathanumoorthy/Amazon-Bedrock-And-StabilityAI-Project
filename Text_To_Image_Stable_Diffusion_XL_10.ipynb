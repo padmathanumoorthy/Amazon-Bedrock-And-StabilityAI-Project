{
  "nbformat": 4,
  "nbformat_minor": 0,
  "metadata": {
    "colab": {
      "provenance": [],
      "authorship_tag": "ABX9TyPzaSrHauEGzGFQW6GGF45s",
      "include_colab_link": true
    },
    "kernelspec": {
      "name": "python3",
      "display_name": "Python 3"
    },
    "language_info": {
      "name": "python"
    }
  },
  "cells": [
    {
      "cell_type": "markdown",
      "metadata": {
        "id": "view-in-github",
        "colab_type": "text"
      },
      "source": [
        "<a href=\"https://colab.research.google.com/github/padmathanumoorthy/Amazon-Bedrock-And-StabilityAI-Project/blob/main/Text_To_Image_Stable_Diffusion_XL_10.ipynb\" target=\"_parent\"><img src=\"https://colab.research.google.com/assets/colab-badge.svg\" alt=\"Open In Colab\"/></a>"
      ]
    },
    {
      "cell_type": "markdown",
      "source": [
        "# Install PIP"
      ],
      "metadata": {
        "id": "U7bsnYgICFh2"
      }
    },
    {
      "cell_type": "code",
      "execution_count": 1,
      "metadata": {
        "colab": {
          "base_uri": "https://localhost:8080/"
        },
        "id": "XFu7BcRWeatW",
        "outputId": "ab7354e1-f656-4023-c1f7-d3bf9446a350"
      },
      "outputs": [
        {
          "output_type": "stream",
          "name": "stdout",
          "text": [
            "     ━━━━━━━━━━━━━━━━━━━━━━━━━━━━━━━━━━━━━━━━ 2.1/2.1 MB 12.7 MB/s eta 0:00:00\n"
          ]
        }
      ],
      "source": [
        "%%sh\n",
        "\n",
        "# create virtual python environment\n",
        "python3 -m pip install pip -Uq"
      ]
    },
    {
      "cell_type": "markdown",
      "source": [
        "# boto3 lib and other libraries Installation"
      ],
      "metadata": {
        "id": "m8eYCv_OCAqX"
      }
    },
    {
      "cell_type": "code",
      "source": [
        "%%sh\n",
        "\n",
        "# install requirements\n",
        "python3 -m pip install boto3 -Uq\n",
        "python3 -m pip install botocore -Uq\n",
        "python3 -m pip install ffmpeg -Uq\n",
        "python3 -m pip install ffmpeg-python -Uq\n",
        "python3 -m pip install Pillow -Uq"
      ],
      "metadata": {
        "colab": {
          "base_uri": "https://localhost:8080/"
        },
        "id": "mIObks-3ekg0",
        "outputId": "bb5979ea-395a-4af5-c0a6-19d8a558ee36"
      },
      "execution_count": 2,
      "outputs": [
        {
          "output_type": "stream",
          "name": "stdout",
          "text": [
            "   ━━━━━━━━━━━━━━━━━━━━━━━━━━━━━━━━━━━━━━━━ 139.3/139.3 kB 4.1 MB/s eta 0:00:00\n",
            "   ━━━━━━━━━━━━━━━━━━━━━━━━━━━━━━━━━━━━━━━━ 12.0/12.0 MB 34.5 MB/s eta 0:00:00\n",
            "   ━━━━━━━━━━━━━━━━━━━━━━━━━━━━━━━━━━━━━━━━ 82.1/82.1 kB 6.7 MB/s eta 0:00:00\n",
            "   ━━━━━━━━━━━━━━━━━━━━━━━━━━━━━━━━━━━━━━━━ 4.5/4.5 MB 16.0 MB/s eta 0:00:00\n"
          ]
        },
        {
          "output_type": "stream",
          "name": "stderr",
          "text": [
            "WARNING: Running pip as the 'root' user can result in broken permissions and conflicting behaviour with the system package manager. It is recommended to use a virtual environment instead: https://pip.pypa.io/warnings/venv\n",
            "WARNING: Running pip as the 'root' user can result in broken permissions and conflicting behaviour with the system package manager. It is recommended to use a virtual environment instead: https://pip.pypa.io/warnings/venv\n",
            "WARNING: Running pip as the 'root' user can result in broken permissions and conflicting behaviour with the system package manager. It is recommended to use a virtual environment instead: https://pip.pypa.io/warnings/venv\n",
            "WARNING: Running pip as the 'root' user can result in broken permissions and conflicting behaviour with the system package manager. It is recommended to use a virtual environment instead: https://pip.pypa.io/warnings/venv\n",
            "ERROR: pip's dependency resolver does not currently take into account all the packages that are installed. This behaviour is the source of the following dependency conflicts.\n",
            "imageio 2.31.6 requires pillow<10.1.0,>=8.3.2, but you have pillow 10.2.0 which is incompatible.\n",
            "WARNING: Running pip as the 'root' user can result in broken permissions and conflicting behaviour with the system package manager. It is recommended to use a virtual environment instead: https://pip.pypa.io/warnings/venv\n"
          ]
        }
      ]
    },
    {
      "cell_type": "markdown",
      "source": [
        "# Authenticate With AWS Credentials"
      ],
      "metadata": {
        "id": "o5BKBz-WB6Or"
      }
    },
    {
      "cell_type": "code",
      "source": [
        "import os\n",
        "from google.colab import userdata\n",
        "aws_access_key_id = userdata.get('AWS_ACCESS_KEY_ID')\n",
        "aws_secret_access_key = userdata.get('AWS_SECRET_ACCESS_KEY')"
      ],
      "metadata": {
        "id": "zXNhVRThez98"
      },
      "execution_count": 9,
      "outputs": []
    },
    {
      "cell_type": "markdown",
      "source": [
        "# Create Folder for Saving Images"
      ],
      "metadata": {
        "id": "_QRakRb3D3_T"
      }
    },
    {
      "cell_type": "code",
      "source": [
        "%%sh\n",
        "\n",
        "mkdir /content/generated_images/\n",
        "\n",
        "ls /content/"
      ],
      "metadata": {
        "colab": {
          "base_uri": "https://localhost:8080/"
        },
        "id": "bNsLSMx5jrgj",
        "outputId": "1897024e-78c9-4c58-b007-f6b6fffd71ed"
      },
      "execution_count": 4,
      "outputs": [
        {
          "output_type": "stream",
          "name": "stdout",
          "text": [
            "generated_images\n",
            "sample_data\n"
          ]
        }
      ]
    },
    {
      "cell_type": "markdown",
      "source": [
        "# Amazon Bedrock - Stable Diffusion XL v1 Model ID"
      ],
      "metadata": {
        "id": "3I6xdP60Dylf"
      }
    },
    {
      "cell_type": "code",
      "source": [
        "# Amazon Bedrock Model ID used throughout this notebook\n",
        "# Model IDs: https://docs.aws.amazon.com/bedrock/latest/userguide/model-ids.html#model-ids-arns\n",
        "MODEL_ID = \"stability.stable-diffusion-xl-v1\""
      ],
      "metadata": {
        "id": "megYJQhRojwm"
      },
      "execution_count": 5,
      "outputs": []
    },
    {
      "cell_type": "markdown",
      "source": [
        "# Image path directry instantiation"
      ],
      "metadata": {
        "id": "8jqmsyT1EbWe"
      }
    },
    {
      "cell_type": "code",
      "source": [
        "# Location of visual contents used throughout this notebook\n",
        "GENERATED_IMAGES = \"/content/generated_images\""
      ],
      "metadata": {
        "id": "pYBXhHAwo1HE"
      },
      "execution_count": 6,
      "outputs": []
    },
    {
      "cell_type": "markdown",
      "source": [
        "# Generation of an image with SDXL 1.0 with Text Prompting"
      ],
      "metadata": {
        "id": "0IWXhAXmButR"
      }
    },
    {
      "cell_type": "code",
      "source": [
        "# The original AWS example code: https://docs.aws.amazon.com/bedrock/latest/userguide/model-parameters-diffusion-1-0-text-image.html#model-parameters-diffusion-1-0-code-example\n",
        "# Copyright Amazon.com, Inc. or its affiliates. All Rights Reserved.\n",
        "\n",
        "\"\"\"\n",
        "The generation of an image with SDXL 1.0 with Text Prompting\n",
        "\"\"\"\n",
        "\n",
        "import base64\n",
        "import io\n",
        "import json\n",
        "import logging\n",
        "import boto3\n",
        "from PIL import Image\n",
        "import time\n",
        "\n",
        "from botocore.exceptions import ClientError\n",
        "\n",
        "# https://prompthero.com/prompt/4c85ab1c267\n",
        "# size 1024x1344  seed:427166973  cfg_scale: 3.5  steps 23  model_hash : aeb7e9e689\n",
        "POSITIVE_PROMPT = \"photorealistic, lotr, A tiny red dragon curled up asleep inside a nest, (Soft Focus) , (f_stop 2.8) , (focal_length 50mm) macro lens f/2. 8, medieval wizard table, (pastel) colors, (cozy) morning light filtering through a nearby window, (whimsical) steam shapes, captured with a (Canon EOS R5) , highlighting (serene) comfort, medieval, dnd, rpg, 3d, 16K, 8K\"\n",
        "NEGATIVE_PROMPT = \"\"\n",
        "\n",
        "# Cat prompt: https://civitai.com/images/6826034\n",
        "# No preset style, cfg_scale: 12, sampler: K_DPMPP_2M, samples: 1, seed: 72746264, steps: 25\n",
        "# POSITIVE_PROMPT = \"amazing quality, masterpiece, best quality, hyper detailed, ultra detailed, UHD, perfect anatomy, magic world, (kitten and fish:1.4), fish in the air, spell magic to get fresh fish as food,( fish jumping from magic book:1.3), energy flow, a full body of a cute kitten, kawaii, wearing witches robe, witches hat, holding magic book, magic book on one hand, spell magic, hkmagic, extremely detailed, glowneon, glowing\"\n",
        "# NEGATIVE_PROMPT = \"FastNegativeV2, watermark, signature, worst quality, low quality, normal quality, lowres, simple background, inaccurate limb, extra fingers, fewer fingers, missing fingers, extra arms, (extra legs:1.3), inaccurate eyes, bad composition, bad anatomy, error, extra digit, fewer digits, cropped, low res, worst quality, low quality, normal quality, jpeg artifacts, extra digit, fewer digits, trademark, watermark, artist's name, username, signature, text, words\"\n",
        "\n",
        "class ImageError(Exception):\n",
        "    \"\"\"\n",
        "    Custom exception for errors returned by SDXL 1.0.\n",
        "    \"\"\"\n",
        "\n",
        "    def __init__(self, message):\n",
        "        self.message = message\n",
        "\n",
        "\n",
        "# Set up logging\n",
        "logger = logging.getLogger(__name__)\n",
        "if logger.hasHandlers():\n",
        "    logger.handlers.clear()\n",
        "handler = logging.StreamHandler()\n",
        "logger.addHandler(handler)\n",
        "formatter = logging.Formatter(\"%(asctime)s - %(levelname)s - %(message)s\")\n",
        "handler.setFormatter(formatter)\n",
        "logger.setLevel(logging.INFO)\n",
        "\n",
        "\n",
        "def main():\n",
        "    build_request_body(\n",
        "        MODEL_ID,\n",
        "        POSITIVE_PROMPT,\n",
        "        NEGATIVE_PROMPT,\n",
        "    )\n",
        "\n",
        "\n",
        "def generate_image(model_id, body):\n",
        "    \"\"\"\n",
        "    Generate an image using SDXL 1.0 on demand.\n",
        "    Args:\n",
        "        model_id (str): The model ID to use.\n",
        "        body (str) : The request body to use.\n",
        "    Returns:\n",
        "        image_bytes (bytes): The image generated by the model.\n",
        "    \"\"\"\n",
        "\n",
        "    logger.info(\"Generating image with SDXL model %s\", model_id)\n",
        "\n",
        "    bedrock = boto3.client(service_name=\"bedrock-runtime\",\n",
        "                           region_name='us-west-2',\n",
        "                           aws_access_key_id = aws_access_key_id,\n",
        "                           aws_secret_access_key = aws_secret_access_key)\n",
        "\n",
        "    accept = \"application/json\"\n",
        "    content_type = \"application/json\"\n",
        "\n",
        "    response = bedrock.invoke_model(\n",
        "        body=body, modelId=model_id, accept=accept, contentType=content_type\n",
        "    )\n",
        "    response_body = json.loads(response.get(\"body\").read())\n",
        "    logger.info(f\"Bedrock result: {response_body['result']}\")\n",
        "\n",
        "    base64_image = response_body.get(\"artifacts\")[0].get(\"base64\")\n",
        "    base64_bytes = base64_image.encode(\"ascii\")\n",
        "    image_bytes = base64.b64decode(base64_bytes)\n",
        "\n",
        "    finish_reason = response_body.get(\"artifacts\")[0].get(\"finishReason\")\n",
        "\n",
        "    if finish_reason == \"ERROR\" or finish_reason == \"CONTENT_FILTERED\":\n",
        "        raise ImageError(f\"Image generation error. Error code is {finish_reason}\")\n",
        "\n",
        "    logger.info(\"Successfully generated image with the SDXL 1.0 model %s\", model_id)\n",
        "\n",
        "    return image_bytes\n",
        "\n",
        "\n",
        "def build_request_body(\n",
        "    model_id,\n",
        "    positive_prompt,\n",
        "    negative_prompt,\n",
        "):\n",
        "    \"\"\"\n",
        "    Entrypoint for SDXL example.\n",
        "    Args:\n",
        "        model_id (str): The model ID to use.\n",
        "        positive_prompt (str): The positive prompt to use.\n",
        "        negative_prompt (str): The negative prompt to use.\n",
        "    \"\"\"\n",
        "\n",
        "    # Build request body\n",
        "    body = json.dumps(\n",
        "        {\n",
        "            \"text_prompts\": [\n",
        "                {\"text\": positive_prompt, \"weight\": 1},\n",
        "                {\"text\": negative_prompt, \"weight\": -1},\n",
        "            ],\n",
        "            \"height\": 1024,\n",
        "            \"width\": 1024,\n",
        "            \"cfg_scale\": 3.5,\n",
        "            \"clip_guidance_preset\": \"NONE\",\n",
        "            \"sampler\": \"K_DPMPP_2M\",\n",
        "            \"samples\": 1,\n",
        "            \"seed\": 427166973,\n",
        "            \"steps\": 25,\n",
        "            \"style_preset\": \"fantasy-art\",\n",
        "            \"model-hash\" : \"aeb7e9e689\",\n",
        "        }\n",
        "    )\n",
        "\n",
        "    # Generate and save image\n",
        "    try:\n",
        "        image_bytes = generate_image(model_id=model_id, body=body)\n",
        "        image = Image.open(io.BytesIO(image_bytes))\n",
        "        logger.info(image.show())\n",
        "        logger.info(image.size)\n",
        "        epoch_time = int(time.time())\n",
        "        generated_image_path = f\"{GENERATED_IMAGES}/image_{epoch_time}.png\"\n",
        "        logger.info(f\"Generated image: {generated_image_path}\")\n",
        "        image.save(generated_image_path)\n",
        "    except ClientError as err:\n",
        "        message = err.response[\"Error\"][\"Message\"]\n",
        "        logger.error(\"A client error occurred: %s\", message)\n",
        "    except ImageError as err:\n",
        "        message = err.response[\"Error\"][\"Message\"]\n",
        "        logger.error(\"A image error occurred: %s\",message)\n",
        "\n",
        "    else:\n",
        "        logger.info(f\"Finished generating image with SDXL model {model_id}.\")\n",
        "\n",
        "\n",
        "if __name__ == \"__main__\":\n",
        "    main()"
      ],
      "metadata": {
        "colab": {
          "base_uri": "https://localhost:8080/"
        },
        "id": "pmUjOyKMo-cS",
        "outputId": "ac9cfa93-101b-4844-a0c9-bf6f92ff1d46"
      },
      "execution_count": 12,
      "outputs": [
        {
          "output_type": "stream",
          "name": "stderr",
          "text": [
            "2024-03-10 22:05:47,308 - INFO - Generating image with SDXL model stability.stable-diffusion-xl-v1\n",
            "INFO:__main__:Generating image with SDXL model stability.stable-diffusion-xl-v1\n",
            "2024-03-10 22:05:53,190 - INFO - Bedrock result: success\n",
            "INFO:__main__:Bedrock result: success\n",
            "2024-03-10 22:05:53,204 - INFO - Successfully generated image with the SDXL 1.0 model stability.stable-diffusion-xl-v1\n",
            "INFO:__main__:Successfully generated image with the SDXL 1.0 model stability.stable-diffusion-xl-v1\n",
            "2024-03-10 22:05:54,056 - INFO - None\n",
            "INFO:__main__:None\n",
            "2024-03-10 22:05:54,060 - INFO - (1024, 1024)\n",
            "INFO:__main__:(1024, 1024)\n",
            "2024-03-10 22:05:54,062 - INFO - Generated image: /content/generated_images/image_1710108354.png\n",
            "INFO:__main__:Generated image: /content/generated_images/image_1710108354.png\n",
            "2024-03-10 22:05:54,931 - INFO - Finished generating image with SDXL model stability.stable-diffusion-xl-v1.\n",
            "INFO:__main__:Finished generating image with SDXL model stability.stable-diffusion-xl-v1.\n"
          ]
        }
      ]
    },
    {
      "cell_type": "markdown",
      "source": [],
      "metadata": {
        "id": "eXNKuyd64ewP"
      }
    }
  ]
}